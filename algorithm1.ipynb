{
 "cells": [
  {
   "cell_type": "code",
   "execution_count": 18,
   "metadata": {},
   "outputs": [
    {
     "name": "stdout",
     "output_type": "stream",
     "text": [
      "Coreset: [[-0.77823865  0.01718491]\n",
      " [ 0.30459764 -0.73450114]\n",
      " [ 0.54350318  0.05773647]\n",
      " [-0.35747693  0.51900686]\n",
      " [ 0.59531353 -0.03265919]\n",
      " [ 0.12409499  0.47994896]\n",
      " [ 0.32717147  0.39844567]\n",
      " [-0.07961886  0.5470665 ]\n",
      " [ 0.34429826 -0.68988589]\n",
      " [-0.60844161 -0.31955072]\n",
      " [-0.42315631 -0.40517253]]\n"
     ]
    }
   ],
   "source": [
    "import numpy as np\n",
    "from scipy.spatial import ConvexHull\n",
    "\n",
    "def projective_clustering_coreset(P, j):\n",
    "    C = set()\n",
    "\n",
    "    u = np.mean(P, axis=0)\n",
    "    U, S, Vt = np.linalg.svd(P - u, full_matrices=False)\n",
    "    W = Vt[:j].T\n",
    "\n",
    "    Q = (P - u) @ W\n",
    "\n",
    "    hull = ConvexHull(Q)\n",
    "    G = Q[hull.vertices]\n",
    "    c = np.mean(G, axis=0)\n",
    "\n",
    "    S = np.vstack([c + (1/j) * (v - c) for v in G])\n",
    "    \n",
    "    for s in np.vstack([S, c]):\n",
    "        convex_hull_points = find_convex_hull_points(Q, s, j+1)\n",
    "        C.update(map(tuple, convex_hull_points))\n",
    "    \n",
    "    return np.array(list(C))\n",
    "\n",
    "def find_convex_hull_points(Q, point, max_points):\n",
    "    hull = ConvexHull(Q)\n",
    "    vertices = Q[hull.vertices]\n",
    "    distances = np.linalg.norm(vertices - point, axis=1)\n",
    "    sorted_indices = np.argsort(distances)\n",
    "    return vertices[sorted_indices[:max_points]]\n",
    "\n",
    "P = np.random.rand(100, 5)\n",
    "j = 2\n",
    "C = projective_clustering_coreset(P, j)\n",
    "print(\"Coreset:\", C)\n"
   ]
  }
 ],
 "metadata": {
  "kernelspec": {
   "display_name": "Python 3",
   "language": "python",
   "name": "python3"
  },
  "language_info": {
   "codemirror_mode": {
    "name": "ipython",
    "version": 3
   },
   "file_extension": ".py",
   "mimetype": "text/x-python",
   "name": "python",
   "nbconvert_exporter": "python",
   "pygments_lexer": "ipython3",
   "version": "3.11.9"
  }
 },
 "nbformat": 4,
 "nbformat_minor": 2
}
