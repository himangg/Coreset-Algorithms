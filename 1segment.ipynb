{
 "cells": [
  {
   "cell_type": "code",
   "execution_count": 1,
   "metadata": {},
   "outputs": [
    {
     "ename": "ValueError",
     "evalue": "all the input array dimensions except for the concatenation axis must match exactly, but along dimension 1, the array at index 0 has size 4 and the array at index 1 has size 3",
     "output_type": "error",
     "traceback": [
      "\u001b[1;31m---------------------------------------------------------------------------\u001b[0m",
      "\u001b[1;31mValueError\u001b[0m                                Traceback (most recent call last)",
      "Cell \u001b[1;32mIn[1], line 42\u001b[0m\n\u001b[0;32m     34\u001b[0m P \u001b[38;5;241m=\u001b[39m np\u001b[38;5;241m.\u001b[39marray([\n\u001b[0;32m     35\u001b[0m     [\u001b[38;5;241m0.1\u001b[39m, \u001b[38;5;241m1.0\u001b[39m, \u001b[38;5;241m2.0\u001b[39m],\n\u001b[0;32m     36\u001b[0m     [\u001b[38;5;241m0.2\u001b[39m, \u001b[38;5;241m2.0\u001b[39m, \u001b[38;5;241m3.0\u001b[39m],\n\u001b[0;32m     37\u001b[0m     [\u001b[38;5;241m0.3\u001b[39m, \u001b[38;5;241m3.0\u001b[39m, \u001b[38;5;241m4.0\u001b[39m],\n\u001b[0;32m     38\u001b[0m     [\u001b[38;5;241m0.4\u001b[39m, \u001b[38;5;241m4.0\u001b[39m, \u001b[38;5;241m5.0\u001b[39m]\n\u001b[0;32m     39\u001b[0m ])\n\u001b[0;32m     40\u001b[0m w \u001b[38;5;241m=\u001b[39m np\u001b[38;5;241m.\u001b[39marray([\u001b[38;5;241m1.0\u001b[39m, \u001b[38;5;241m0.8\u001b[39m, \u001b[38;5;241m0.6\u001b[39m, \u001b[38;5;241m0.4\u001b[39m])\n\u001b[1;32m---> 42\u001b[0m C, u \u001b[38;5;241m=\u001b[39m \u001b[43mone_segment\u001b[49m\u001b[43m(\u001b[49m\u001b[43mP\u001b[49m\u001b[43m,\u001b[49m\u001b[43m \u001b[49m\u001b[43mw\u001b[49m\u001b[43m)\u001b[49m\n\u001b[0;32m     43\u001b[0m \u001b[38;5;28mprint\u001b[39m(\u001b[38;5;124m\"\u001b[39m\u001b[38;5;124mCoreset C:\u001b[39m\u001b[38;5;130;01m\\n\u001b[39;00m\u001b[38;5;124m\"\u001b[39m, C)\n\u001b[0;32m     44\u001b[0m \u001b[38;5;28mprint\u001b[39m(\u001b[38;5;124m\"\u001b[39m\u001b[38;5;124mWeights u:\u001b[39m\u001b[38;5;130;01m\\n\u001b[39;00m\u001b[38;5;124m\"\u001b[39m, u)\n",
      "Cell \u001b[1;32mIn[1], line 27\u001b[0m, in \u001b[0;36mone_segment\u001b[1;34m(P, w)\u001b[0m\n\u001b[0;32m     23\u001b[0m     Z[:, j] \u001b[38;5;241m=\u001b[39m np\u001b[38;5;241m.\u001b[39msqrt(c) \u001b[38;5;241m*\u001b[39m VT[j\u001b[38;5;241m-\u001b[39m\u001b[38;5;241m1\u001b[39m, :]\n\u001b[0;32m     25\u001b[0m B \u001b[38;5;241m=\u001b[39m Z[:, \u001b[38;5;241m1\u001b[39m:] \u001b[38;5;241m/\u001b[39m np\u001b[38;5;241m.\u001b[39msqrt(c)\n\u001b[1;32m---> 27\u001b[0m C \u001b[38;5;241m=\u001b[39m \u001b[43mnp\u001b[49m\u001b[38;5;241;43m.\u001b[39;49m\u001b[43mvstack\u001b[49m\u001b[43m(\u001b[49m\u001b[43m(\u001b[49m\u001b[43mu\u001b[49m\u001b[43m,\u001b[49m\u001b[43m \u001b[49m\u001b[43mB\u001b[49m\u001b[43m)\u001b[49m\u001b[43m)\u001b[49m\n\u001b[0;32m     29\u001b[0m u_weights \u001b[38;5;241m=\u001b[39m np\u001b[38;5;241m.\u001b[39mfull(C\u001b[38;5;241m.\u001b[39mshape[\u001b[38;5;241m0\u001b[39m], c)\n\u001b[0;32m     31\u001b[0m \u001b[38;5;28;01mreturn\u001b[39;00m C, u_weights\n",
      "File \u001b[1;32m~\\AppData\\Local\\Packages\\PythonSoftwareFoundation.Python.3.11_qbz5n2kfra8p0\\LocalCache\\local-packages\\Python311\\site-packages\\numpy\\core\\shape_base.py:289\u001b[0m, in \u001b[0;36mvstack\u001b[1;34m(tup, dtype, casting)\u001b[0m\n\u001b[0;32m    287\u001b[0m \u001b[38;5;28;01mif\u001b[39;00m \u001b[38;5;129;01mnot\u001b[39;00m \u001b[38;5;28misinstance\u001b[39m(arrs, \u001b[38;5;28mlist\u001b[39m):\n\u001b[0;32m    288\u001b[0m     arrs \u001b[38;5;241m=\u001b[39m [arrs]\n\u001b[1;32m--> 289\u001b[0m \u001b[38;5;28;01mreturn\u001b[39;00m \u001b[43m_nx\u001b[49m\u001b[38;5;241;43m.\u001b[39;49m\u001b[43mconcatenate\u001b[49m\u001b[43m(\u001b[49m\u001b[43marrs\u001b[49m\u001b[43m,\u001b[49m\u001b[43m \u001b[49m\u001b[38;5;241;43m0\u001b[39;49m\u001b[43m,\u001b[49m\u001b[43m \u001b[49m\u001b[43mdtype\u001b[49m\u001b[38;5;241;43m=\u001b[39;49m\u001b[43mdtype\u001b[49m\u001b[43m,\u001b[49m\u001b[43m \u001b[49m\u001b[43mcasting\u001b[49m\u001b[38;5;241;43m=\u001b[39;49m\u001b[43mcasting\u001b[49m\u001b[43m)\u001b[49m\n",
      "\u001b[1;31mValueError\u001b[0m: all the input array dimensions except for the concatenation axis must match exactly, but along dimension 1, the array at index 0 has size 4 and the array at index 1 has size 3"
     ]
    }
   ],
   "source": [
    "import numpy as np\n",
    "from scipy.linalg import svd\n",
    "\n",
    "def one_segment(P, w):\n",
    "    n,d=P.shape\n",
    "    d-=1\n",
    "\n",
    "    X = np.zeros((n, d+2))\n",
    "    for i in range(n):\n",
    "        ti = P[i, 0]\n",
    "        pi = P[i, 1:]\n",
    "        X[i] = np.sqrt(w[i]) * np.concatenate(([1, ti], pi))\n",
    "\n",
    "    U, Sigma, VT = svd(X, full_matrices=False)\n",
    "    u = Sigma[0] * VT[0, :]\n",
    "\n",
    "    c = np.linalg.norm(u) ** 2 / (d + 2)\n",
    "\n",
    "    Z = np.eye(d + 2)\n",
    "    Z[:, 0] = u / np.linalg.norm(u) * np.sqrt(c)\n",
    "\n",
    "    for j in range(1, d+2):\n",
    "        Z[:, j] = np.sqrt(c) * VT[j-1, :]\n",
    "\n",
    "    B = Z[:, 1:] / np.sqrt(c)\n",
    "\n",
    "    C = np.vstack((u, B))\n",
    "    \n",
    "    u_weights = np.full(C.shape[0], c)\n",
    "    \n",
    "    return C, u_weights\n",
    "\n",
    "# Example usage\n",
    "P = np.array([\n",
    "    [0.1, 1.0, 2.0],\n",
    "    [0.2, 2.0, 3.0],\n",
    "    [0.3, 3.0, 4.0],\n",
    "    [0.4, 4.0, 5.0]\n",
    "])\n",
    "w = np.array([1.0, 0.8, 0.6, 0.4])\n",
    "\n",
    "C, u = one_segment(P, w)\n",
    "print(\"Coreset C:\\n\", C)\n",
    "print(\"Weights u:\\n\", u)\n"
   ]
  },
  {
   "cell_type": "code",
   "execution_count": 7,
   "metadata": {},
   "outputs": [
    {
     "name": "stdout",
     "output_type": "stream",
     "text": [
      "Coreset C:\n",
      " [[ 2.62363425e-01 -5.25873880e-02  1.57655013e-18  3.12369644e-17]\n",
      " [ 2.62363425e+00 -5.25873880e-01 -3.01030411e-16 -1.05098181e-17]\n",
      " [ 3.48095110e+00 -1.04066297e+00 -2.09595455e-16 -1.94689127e-17]\n",
      " [-2.15482996e+00  5.97250250e-01  1.79416765e-16  9.43887057e-18]]\n",
      "Weights u:\n",
      " [1.25 1.25 1.25 1.25]\n"
     ]
    }
   ],
   "source": [
    "import numpy as np\n",
    "from scipy.linalg import svd\n",
    "\n",
    "def one_segment(P, w):\n",
    "    n,d=P.shape\n",
    "    d-=1\n",
    "\n",
    "    X = np.zeros((n, d+2))\n",
    "    for i in range(n):\n",
    "        t_i = P[i, 0]\n",
    "        p_i = P[i, 1:]\n",
    "        sqrt_w = np.sqrt(w[i])\n",
    "        X[i] = sqrt_w * np.hstack(([1], [t_i], p_i))\n",
    "\n",
    "    U, Sigma, VT = np.linalg.svd(X, full_matrices=False)\n",
    "    Sigma_VT = np.diag(Sigma) @ VT\n",
    "    u = Sigma_VT[:, 0]\n",
    "\n",
    "    c = (np.linalg.norm(u)**2) / (d+2)\n",
    "    v = np.full(d+2, np.sqrt(c))\n",
    "    A = np.eye(d+2)\n",
    "    A[:, 0] = u \n",
    "    Q, _ = np.linalg.qr(A)\n",
    "    D = np.diag(v / (Q[:, 0] @ u))\n",
    "    Z = Q @ D\n",
    "\n",
    "\n",
    "    Z_Sigma_VT = Z @ np.diag(Sigma) @ VT\n",
    "    Z_Sigma_VT_scaled = Z_Sigma_VT / np.sqrt(c)\n",
    "    d_plus_2 = Z.shape[0]\n",
    "    B = Z_Sigma_VT_scaled[:, -d_plus_2+1:]\n",
    "\n",
    "    C = np.vstack([B.T, u])\n",
    "    \n",
    "    u_weights = np.full(C.shape[0], c)\n",
    "    \n",
    "    return C, u_weights\n",
    "\n",
    "P = np.array([\n",
    "    [0.1, 1.0, 2.0],\n",
    "    [0.2, 2.0, 3.0],\n",
    "    [0.3, 3.0, 4.0],\n",
    "    [0.3, 3.0, 4.0],\n",
    "    [0.3, 3.0, 4.0],\n",
    "    [0.3, 3.0, 4.0],\n",
    "    [0.4, 4.0, 5.0]\n",
    "])\n",
    "w = np.array([1.0, 0.8, 0.5, 1.0, 0.7, 0.6, 0.4])\n",
    "\n",
    "C, u = one_segment(P, w)\n",
    "print(\"Coreset C:\\n\", C)\n",
    "print(\"Weights u:\\n\", u)\n"
   ]
  }
 ],
 "metadata": {
  "kernelspec": {
   "display_name": "Python 3",
   "language": "python",
   "name": "python3"
  },
  "language_info": {
   "codemirror_mode": {
    "name": "ipython",
    "version": 3
   },
   "file_extension": ".py",
   "mimetype": "text/x-python",
   "name": "python",
   "nbconvert_exporter": "python",
   "pygments_lexer": "ipython3",
   "version": "3.11.9"
  }
 },
 "nbformat": 4,
 "nbformat_minor": 2
}
