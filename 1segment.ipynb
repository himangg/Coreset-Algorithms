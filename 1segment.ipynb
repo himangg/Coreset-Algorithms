{
 "cells": [
  {
   "cell_type": "code",
   "execution_count": 9,
   "metadata": {},
   "outputs": [
    {
     "name": "stdout",
     "output_type": "stream",
     "text": [
      "Coreset C:\n",
      " [[-0.78544652  2.75187845 -1.68204974]\n",
      " [-0.19884619 -0.20481786  1.78463504]\n",
      " [-1.98846187 -2.04817859 -1.86051324]\n",
      " [-2.77390839  0.70369985  1.68204974]]\n",
      "Weights u:\n",
      " [12.30501438 12.30501438 12.30501438 12.30501438]\n"
     ]
    }
   ],
   "source": [
    "import numpy as np\n",
    "from scipy.linalg import svd\n",
    "\n",
    "def one_segment(P, w):\n",
    "    n, d = P.shape\n",
    "    d -= 1\n",
    "    X = np.zeros((n, d + 2))\n",
    "    for i in range(n):\n",
    "        ti = P[i, 0]\n",
    "        pi = P[i, 1:]\n",
    "        X[i] = np.sqrt(w[i]) * np.concatenate(([1, ti], pi))\n",
    "    U, Sigma, VT = svd(X, full_matrices=False)\n",
    "    u = Sigma[0] * VT[0, :]\n",
    "    c = np.linalg.norm(u) ** 2 / (d + 2)\n",
    "    Z = np.eye(d + 2)\n",
    "    Z[:, 0] = u / np.linalg.norm(u) * np.sqrt(c)\n",
    "    for j in range(1, d + 2):\n",
    "        Z[:, j] = np.sqrt(c) * VT[j-1, :]\n",
    "    B = Z[:, 1:]\n",
    "    C = B\n",
    "    u_weights = np.full(C.shape[0], c)\n",
    "    return C, u_weights\n",
    "\n",
    "P = np.array([\n",
    "    [0.1, 1.0, 2.0],\n",
    "    [0.2, 2.0, 3.0],\n",
    "    [0.3, 3.0, 4.0],\n",
    "    [0.4, 4.0, 5.0]\n",
    "])\n",
    "w = np.array([1.0, 0.8, 0.6, 0.4])\n",
    "\n",
    "C, u = one_segment(P, w)\n",
    "print(\"Coreset C:\\n\", C)\n",
    "print(\"Weights u:\\n\", u)\n"
   ]
  },
  {
   "cell_type": "code",
   "execution_count": 10,
   "metadata": {},
   "outputs": [
    {
     "name": "stdout",
     "output_type": "stream",
     "text": [
      "Coreset C:\n",
      " [[ 2.62363425e-01 -5.25873880e-02  1.57655013e-18  3.12369644e-17]\n",
      " [ 2.62363425e+00 -5.25873880e-01 -3.01030411e-16 -1.05098181e-17]\n",
      " [ 3.48095110e+00 -1.04066297e+00 -2.09595455e-16 -1.94689127e-17]\n",
      " [-2.15482996e+00  5.97250250e-01  1.79416765e-16  9.43887057e-18]]\n",
      "Weights u:\n",
      " [1.25 1.25 1.25 1.25]\n"
     ]
    }
   ],
   "source": [
    "import numpy as np\n",
    "from scipy.linalg import svd\n",
    "\n",
    "def one_segment(P, w):\n",
    "    n,d=P.shape\n",
    "    d-=1\n",
    "    X = np.zeros((n, d+2))\n",
    "    for i in range(n):\n",
    "        t_i = P[i, 0]\n",
    "        p_i = P[i, 1:]\n",
    "        sqrt_w = np.sqrt(w[i])\n",
    "        X[i] = sqrt_w * np.hstack(([1], [t_i], p_i))\n",
    "    U, Sigma, VT = np.linalg.svd(X, full_matrices=False)\n",
    "    Sigma_VT = np.diag(Sigma) @ VT\n",
    "    u = Sigma_VT[:, 0]\n",
    "    c = (np.linalg.norm(u)**2) / (d+2)\n",
    "    v = np.full(d+2, np.sqrt(c))\n",
    "    A = np.eye(d+2)\n",
    "    A[:, 0] = u \n",
    "    Q, _ = np.linalg.qr(A)\n",
    "    D = np.diag(v / (Q[:, 0] @ u))\n",
    "    Z = Q @ D\n",
    "    Z_Sigma_VT = Z @ np.diag(Sigma) @ VT\n",
    "    Z_Sigma_VT_scaled = Z_Sigma_VT / np.sqrt(c)\n",
    "    d_plus_2 = Z.shape[0]\n",
    "    B = Z_Sigma_VT_scaled[:, -d_plus_2+1:]\n",
    "    C = np.vstack([B.T, u])\n",
    "    u_weights = np.full(C.shape[0], c)\n",
    "    return C, u_weights\n",
    "\n",
    "P = np.array([\n",
    "    [0.1, 1.0, 2.0],\n",
    "    [0.2, 2.0, 3.0],\n",
    "    [0.3, 3.0, 4.0],\n",
    "    [0.3, 3.0, 4.0],\n",
    "    [0.3, 3.0, 4.0],\n",
    "    [0.3, 3.0, 4.0],\n",
    "    [0.4, 4.0, 5.0]\n",
    "])\n",
    "w = np.array([1.0, 0.8, 0.5, 1.0, 0.7, 0.6, 0.4])\n",
    "\n",
    "C, u = one_segment(P, w)\n",
    "print(\"Coreset C:\\n\", C)\n",
    "print(\"Weights u:\\n\", u)\n"
   ]
  }
 ],
 "metadata": {
  "kernelspec": {
   "display_name": "Python 3",
   "language": "python",
   "name": "python3"
  },
  "language_info": {
   "codemirror_mode": {
    "name": "ipython",
    "version": 3
   },
   "file_extension": ".py",
   "mimetype": "text/x-python",
   "name": "python",
   "nbconvert_exporter": "python",
   "pygments_lexer": "ipython3",
   "version": "3.11.9"
  }
 },
 "nbformat": 4,
 "nbformat_minor": 2
}
